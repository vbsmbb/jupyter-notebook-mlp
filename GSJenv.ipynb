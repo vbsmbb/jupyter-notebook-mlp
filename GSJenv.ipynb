{
 "cells": [
  {
   "cell_type": "markdown",
   "id": "877fe367-43c1-4a5e-8e35-8c98ec02e18f",
   "metadata": {},
   "source": [
    "# Hello function\n",
    "This function takes no parameters and prints **\"Hello, World!\"** to the console.\n"
   ]
  },
  {
   "cell_type": "code",
   "execution_count": 2,
   "id": "eb790c70-9ef4-40a7-a9f2-45f3c9f92efd",
   "metadata": {},
   "outputs": [
    {
     "name": "stdout",
     "output_type": "stream",
     "text": [
      "Hello, World!\n"
     ]
    }
   ],
   "source": [
    "def hello():\n",
    "    print(\"Hello, World!\")\n",
    "hello()\n"
   ]
  }
 ],
 "metadata": {
  "kernelspec": {
   "display_name": "venv",
   "language": "python",
   "name": "venv"
  },
  "language_info": {
   "codemirror_mode": {
    "name": "ipython",
    "version": 3
   },
   "file_extension": ".py",
   "mimetype": "text/x-python",
   "name": "python",
   "nbconvert_exporter": "python",
   "pygments_lexer": "ipython3",
   "version": "3.9.5"
  }
 },
 "nbformat": 4,
 "nbformat_minor": 5
}

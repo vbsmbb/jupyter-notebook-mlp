{
 "cells": [
  {
   "cell_type": "markdown",
   "id": "6e9955a8-6f22-4834-92cd-32ed6b8421f2",
   "metadata": {},
   "source": [
    "## Install Python packages"
   ]
  },
  {
   "cell_type": "code",
   "execution_count": 12,
   "id": "d433199d-ffca-4594-9843-adc79ebe185f",
   "metadata": {},
   "outputs": [
    {
     "name": "stdout",
     "output_type": "stream",
     "text": [
      "Requirement already satisfied: numpy in d:\\projects\\python\\jupyternotebookmlp\\venv\\lib\\site-packages (1.21.2)\n"
     ]
    }
   ],
   "source": [
    "import sys\n",
    "!{sys.executable} -m pip install numpy\n"
   ]
  },
  {
   "cell_type": "markdown",
   "id": "06ba8fe2-f7da-460e-8231-079f4443656d",
   "metadata": {},
   "source": [
    "## Use latex to write equations"
   ]
  },
  {
   "cell_type": "code",
   "execution_count": 2,
   "id": "e730c98e-6794-40e5-a1d5-49e008206186",
   "metadata": {},
   "outputs": [
    {
     "data": {
      "text/latex": [
       "\\[ a^2 + b^2 = c^2 \\]\n"
      ],
      "text/plain": [
       "<IPython.core.display.Latex object>"
      ]
     },
     "metadata": {},
     "output_type": "display_data"
    }
   ],
   "source": [
    "%%latex\n",
    "\\[ a^2 + b^2 = c^2 \\]"
   ]
  },
  {
   "cell_type": "markdown",
   "id": "a52d7e73-8129-4609-9605-a548d726d16c",
   "metadata": {},
   "source": [
    "## Which version of factorial runs faster?"
   ]
  },
  {
   "cell_type": "code",
   "execution_count": 17,
   "id": "60d0f9cf-5cbd-4fbf-945d-8840d49c47e9",
   "metadata": {},
   "outputs": [],
   "source": [
    "def factorialA(n):\n",
    "    \"\"\"This function computes the factorial of a number using a for loop\"\"\"\n",
    "    if n < 0:\n",
    "        return 0\n",
    "    elif n == 0 or n == 1:\n",
    "        return 1\n",
    "    else:\n",
    "        fact = 1\n",
    "        while(n > 1):\n",
    "            fact *= n\n",
    "            n -= 1\n",
    "        return fact;\n",
    "\n",
    "# def factorialB(n):\n",
    "#     \"\"\"This fucntion computes the factorial of a number using recursion\"\"\"\n",
    "#     if n == 0 or n == 1:\n",
    "#         return 1\n",
    "#     else:\n",
    "#         return n*factorialB(n-1);\n"
   ]
  },
  {
   "cell_type": "markdown",
   "id": "1dfa96dc-a1fb-433a-8f5e-6e7097ba6df3",
   "metadata": {},
   "source": [
    "### FactorialA ran ~3us faster than FactorialB"
   ]
  },
  {
   "cell_type": "code",
   "execution_count": 18,
   "id": "b248d31f-da69-46f3-a6b9-2f4383f29f56",
   "metadata": {},
   "outputs": [
    {
     "name": "stdout",
     "output_type": "stream",
     "text": [
      "9.55 µs ± 354 ns per loop (mean ± std. dev. of 7 runs, 100000 loops each)\n"
     ]
    }
   ],
   "source": [
    "%%timeit \n",
    "x = factorialA(100);"
   ]
  },
  {
   "cell_type": "code",
   "execution_count": 38,
   "id": "7715ecfd-939b-4d69-b2d3-16febc774ca8",
   "metadata": {},
   "outputs": [
    {
     "name": "stdout",
     "output_type": "stream",
     "text": [
      "12.8 µs ± 148 ns per loop (mean ± std. dev. of 7 runs, 100000 loops each)\n"
     ]
    }
   ],
   "source": [
    "%%timeit\n",
    "X = factorialB(100);"
   ]
  },
  {
   "cell_type": "markdown",
   "id": "85d75faf-e2de-4b31-81e2-519d76ca793b",
   "metadata": {},
   "source": [
    "## Use HTML to embed images and videos"
   ]
  },
  {
   "cell_type": "code",
   "execution_count": 4,
   "id": "a34f2c61-9f44-4230-939f-7b1cbdc9452e",
   "metadata": {},
   "outputs": [
    {
     "data": {
      "text/html": [
       "<video width=\"854\" height=\"480\" controls>\n",
       "    <source src=\"https://www.youtube.com/watch?v=Y7uNT0alrKk&ab_channel=ManningPublications\" type=\"video\">\n",
       "</video>\n"
      ],
      "text/plain": [
       "<IPython.core.display.HTML object>"
      ]
     },
     "metadata": {},
     "output_type": "display_data"
    }
   ],
   "source": [
    "%%HTML\n",
    "<video width=\"854\" height=\"480\" controls>\n",
    "    <source src=\"https://www.youtube.com/watch?v=Y7uNT0alrKk&ab_channel=ManningPublications\" type=\"video\">\n",
    "</video>"
   ]
  },
  {
   "cell_type": "markdown",
   "id": "40cb62ba-fd57-442b-bca0-b9e9654a42dc",
   "metadata": {},
   "source": [
    "## Configure the notebook"
   ]
  },
  {
   "cell_type": "code",
   "execution_count": 43,
   "id": "859b1876-aa15-438e-9486-47438a6e878e",
   "metadata": {},
   "outputs": [
    {
     "name": "stdout",
     "output_type": "stream",
     "text": [
      "Collecting jupyter_contrib_nbextensions\n",
      "  Downloading jupyter_contrib_nbextensions-0.5.1-py2.py3-none-any.whl (20.9 MB)\n",
      "Collecting jupyter-nbextensions-configurator>=0.4.0\n",
      "  Downloading jupyter_nbextensions_configurator-0.4.1.tar.gz (479 kB)\n",
      "Requirement already satisfied: ipython-genutils in d:\\projects\\python\\jupyternotebookmlp\\venv\\lib\\site-packages (from jupyter_contrib_nbextensions) (0.2.0)\n",
      "Collecting jupyter-highlight-selected-word>=0.1.1\n",
      "  Downloading jupyter_highlight_selected_word-0.2.0-py2.py3-none-any.whl (11 kB)\n",
      "Requirement already satisfied: nbconvert>=4.2 in d:\\projects\\python\\jupyternotebookmlp\\venv\\lib\\site-packages (from jupyter_contrib_nbextensions) (6.1.0)\n",
      "Requirement already satisfied: tornado in d:\\projects\\python\\jupyternotebookmlp\\venv\\lib\\site-packages (from jupyter_contrib_nbextensions) (6.1)\n",
      "Requirement already satisfied: jupyter-core in d:\\projects\\python\\jupyternotebookmlp\\venv\\lib\\site-packages (from jupyter_contrib_nbextensions) (4.7.1)\n",
      "Collecting pyyaml\n",
      "  Downloading PyYAML-5.4.1-cp39-cp39-win_amd64.whl (213 kB)\n",
      "Collecting lxml\n",
      "  Downloading lxml-4.6.3-cp39-cp39-win_amd64.whl (3.5 MB)\n",
      "Requirement already satisfied: traitlets>=4.1 in d:\\projects\\python\\jupyternotebookmlp\\venv\\lib\\site-packages (from jupyter_contrib_nbextensions) (5.1.0)\n",
      "Collecting jupyter-contrib-core>=0.3.3\n",
      "  Downloading jupyter_contrib_core-0.3.3-py2.py3-none-any.whl (18 kB)\n",
      "Requirement already satisfied: notebook>=4.0 in d:\\projects\\python\\jupyternotebookmlp\\venv\\lib\\site-packages (from jupyter_contrib_nbextensions) (6.4.3)\n",
      "Collecting jupyter-latex-envs>=1.3.8\n",
      "  Downloading jupyter_latex_envs-1.4.6.tar.gz (861 kB)\n",
      "Requirement already satisfied: setuptools in d:\\projects\\python\\jupyternotebookmlp\\venv\\lib\\site-packages (from jupyter-contrib-core>=0.3.3->jupyter_contrib_nbextensions) (56.1.0)\n",
      "Requirement already satisfied: ipython in d:\\projects\\python\\jupyternotebookmlp\\venv\\lib\\site-packages (from jupyter-latex-envs>=1.3.8->jupyter_contrib_nbextensions) (7.27.0)\n",
      "Requirement already satisfied: pandocfilters>=1.4.1 in d:\\projects\\python\\jupyternotebookmlp\\venv\\lib\\site-packages (from nbconvert>=4.2->jupyter_contrib_nbextensions) (1.4.3)\n",
      "Requirement already satisfied: mistune<2,>=0.8.1 in d:\\projects\\python\\jupyternotebookmlp\\venv\\lib\\site-packages (from nbconvert>=4.2->jupyter_contrib_nbextensions) (0.8.4)\n",
      "Requirement already satisfied: nbformat>=4.4 in d:\\projects\\python\\jupyternotebookmlp\\venv\\lib\\site-packages (from nbconvert>=4.2->jupyter_contrib_nbextensions) (5.1.3)\n",
      "Requirement already satisfied: jupyterlab-pygments in d:\\projects\\python\\jupyternotebookmlp\\venv\\lib\\site-packages (from nbconvert>=4.2->jupyter_contrib_nbextensions) (0.1.2)\n",
      "Requirement already satisfied: bleach in d:\\projects\\python\\jupyternotebookmlp\\venv\\lib\\site-packages (from nbconvert>=4.2->jupyter_contrib_nbextensions) (4.1.0)\n",
      "Requirement already satisfied: nbclient<0.6.0,>=0.5.0 in d:\\projects\\python\\jupyternotebookmlp\\venv\\lib\\site-packages (from nbconvert>=4.2->jupyter_contrib_nbextensions) (0.5.4)\n",
      "Requirement already satisfied: testpath in d:\\projects\\python\\jupyternotebookmlp\\venv\\lib\\site-packages (from nbconvert>=4.2->jupyter_contrib_nbextensions) (0.5.0)\n",
      "Requirement already satisfied: pygments>=2.4.1 in d:\\projects\\python\\jupyternotebookmlp\\venv\\lib\\site-packages (from nbconvert>=4.2->jupyter_contrib_nbextensions) (2.10.0)\n",
      "Requirement already satisfied: jinja2>=2.4 in d:\\projects\\python\\jupyternotebookmlp\\venv\\lib\\site-packages (from nbconvert>=4.2->jupyter_contrib_nbextensions) (3.0.1)\n",
      "Requirement already satisfied: defusedxml in d:\\projects\\python\\jupyternotebookmlp\\venv\\lib\\site-packages (from nbconvert>=4.2->jupyter_contrib_nbextensions) (0.7.1)\n",
      "Requirement already satisfied: entrypoints>=0.2.2 in d:\\projects\\python\\jupyternotebookmlp\\venv\\lib\\site-packages (from nbconvert>=4.2->jupyter_contrib_nbextensions) (0.3)\n",
      "Requirement already satisfied: MarkupSafe>=2.0 in d:\\projects\\python\\jupyternotebookmlp\\venv\\lib\\site-packages (from jinja2>=2.4->nbconvert>=4.2->jupyter_contrib_nbextensions) (2.0.1)\n",
      "Requirement already satisfied: nest-asyncio in d:\\projects\\python\\jupyternotebookmlp\\venv\\lib\\site-packages (from nbclient<0.6.0,>=0.5.0->nbconvert>=4.2->jupyter_contrib_nbextensions) (1.5.1)\n",
      "Requirement already satisfied: jupyter-client>=6.1.5 in d:\\projects\\python\\jupyternotebookmlp\\venv\\lib\\site-packages (from nbclient<0.6.0,>=0.5.0->nbconvert>=4.2->jupyter_contrib_nbextensions) (6.1.12)\n",
      "Requirement already satisfied: pyzmq>=13 in d:\\projects\\python\\jupyternotebookmlp\\venv\\lib\\site-packages (from jupyter-client>=6.1.5->nbclient<0.6.0,>=0.5.0->nbconvert>=4.2->jupyter_contrib_nbextensions) (22.2.1)\n",
      "Requirement already satisfied: python-dateutil>=2.1 in d:\\projects\\python\\jupyternotebookmlp\\venv\\lib\\site-packages (from jupyter-client>=6.1.5->nbclient<0.6.0,>=0.5.0->nbconvert>=4.2->jupyter_contrib_nbextensions) (2.8.2)\n",
      "Requirement already satisfied: pywin32>=1.0 in d:\\projects\\python\\jupyternotebookmlp\\venv\\lib\\site-packages (from jupyter-core->jupyter_contrib_nbextensions) (301)\n",
      "Requirement already satisfied: jsonschema!=2.5.0,>=2.4 in d:\\projects\\python\\jupyternotebookmlp\\venv\\lib\\site-packages (from nbformat>=4.4->nbconvert>=4.2->jupyter_contrib_nbextensions) (3.2.0)\n",
      "Requirement already satisfied: pyrsistent>=0.14.0 in d:\\projects\\python\\jupyternotebookmlp\\venv\\lib\\site-packages (from jsonschema!=2.5.0,>=2.4->nbformat>=4.4->nbconvert>=4.2->jupyter_contrib_nbextensions) (0.18.0)\n",
      "Requirement already satisfied: attrs>=17.4.0 in d:\\projects\\python\\jupyternotebookmlp\\venv\\lib\\site-packages (from jsonschema!=2.5.0,>=2.4->nbformat>=4.4->nbconvert>=4.2->jupyter_contrib_nbextensions) (21.2.0)\n",
      "Requirement already satisfied: six>=1.11.0 in d:\\projects\\python\\jupyternotebookmlp\\venv\\lib\\site-packages (from jsonschema!=2.5.0,>=2.4->nbformat>=4.4->nbconvert>=4.2->jupyter_contrib_nbextensions) (1.16.0)\n",
      "Requirement already satisfied: ipykernel in d:\\projects\\python\\jupyternotebookmlp\\venv\\lib\\site-packages (from notebook>=4.0->jupyter_contrib_nbextensions) (6.3.1)\n",
      "Requirement already satisfied: terminado>=0.8.3 in d:\\projects\\python\\jupyternotebookmlp\\venv\\lib\\site-packages (from notebook>=4.0->jupyter_contrib_nbextensions) (0.11.1)\n",
      "Requirement already satisfied: prometheus-client in d:\\projects\\python\\jupyternotebookmlp\\venv\\lib\\site-packages (from notebook>=4.0->jupyter_contrib_nbextensions) (0.11.0)\n",
      "Requirement already satisfied: Send2Trash>=1.5.0 in d:\\projects\\python\\jupyternotebookmlp\\venv\\lib\\site-packages (from notebook>=4.0->jupyter_contrib_nbextensions) (1.8.0)\n",
      "Requirement already satisfied: argon2-cffi in d:\\projects\\python\\jupyternotebookmlp\\venv\\lib\\site-packages (from notebook>=4.0->jupyter_contrib_nbextensions) (21.1.0)\n",
      "Requirement already satisfied: pywinpty>=1.1.0 in d:\\projects\\python\\jupyternotebookmlp\\venv\\lib\\site-packages (from terminado>=0.8.3->notebook>=4.0->jupyter_contrib_nbextensions) (1.1.4)\n",
      "Requirement already satisfied: cffi>=1.0.0 in d:\\projects\\python\\jupyternotebookmlp\\venv\\lib\\site-packages (from argon2-cffi->notebook>=4.0->jupyter_contrib_nbextensions) (1.14.6)\n",
      "Requirement already satisfied: pycparser in d:\\projects\\python\\jupyternotebookmlp\\venv\\lib\\site-packages (from cffi>=1.0.0->argon2-cffi->notebook>=4.0->jupyter_contrib_nbextensions) (2.20)\n",
      "Requirement already satisfied: packaging in d:\\projects\\python\\jupyternotebookmlp\\venv\\lib\\site-packages (from bleach->nbconvert>=4.2->jupyter_contrib_nbextensions) (21.0)\n",
      "Requirement already satisfied: webencodings in d:\\projects\\python\\jupyternotebookmlp\\venv\\lib\\site-packages (from bleach->nbconvert>=4.2->jupyter_contrib_nbextensions) (0.5.1)\n",
      "Requirement already satisfied: debugpy<2.0,>=1.0.0 in d:\\projects\\python\\jupyternotebookmlp\\venv\\lib\\site-packages (from ipykernel->notebook>=4.0->jupyter_contrib_nbextensions) (1.4.1)\n",
      "Requirement already satisfied: matplotlib-inline<0.2.0,>=0.1.0 in d:\\projects\\python\\jupyternotebookmlp\\venv\\lib\\site-packages (from ipykernel->notebook>=4.0->jupyter_contrib_nbextensions) (0.1.2)\n",
      "Requirement already satisfied: backcall in d:\\projects\\python\\jupyternotebookmlp\\venv\\lib\\site-packages (from ipython->jupyter-latex-envs>=1.3.8->jupyter_contrib_nbextensions) (0.2.0)\n",
      "Requirement already satisfied: jedi>=0.16 in d:\\projects\\python\\jupyternotebookmlp\\venv\\lib\\site-packages (from ipython->jupyter-latex-envs>=1.3.8->jupyter_contrib_nbextensions) (0.18.0)\n",
      "Requirement already satisfied: prompt-toolkit!=3.0.0,!=3.0.1,<3.1.0,>=2.0.0 in d:\\projects\\python\\jupyternotebookmlp\\venv\\lib\\site-packages (from ipython->jupyter-latex-envs>=1.3.8->jupyter_contrib_nbextensions) (3.0.20)\n",
      "Requirement already satisfied: decorator in d:\\projects\\python\\jupyternotebookmlp\\venv\\lib\\site-packages (from ipython->jupyter-latex-envs>=1.3.8->jupyter_contrib_nbextensions) (5.0.9)\n",
      "Requirement already satisfied: colorama in d:\\projects\\python\\jupyternotebookmlp\\venv\\lib\\site-packages (from ipython->jupyter-latex-envs>=1.3.8->jupyter_contrib_nbextensions) (0.4.4)\n",
      "Requirement already satisfied: pickleshare in d:\\projects\\python\\jupyternotebookmlp\\venv\\lib\\site-packages (from ipython->jupyter-latex-envs>=1.3.8->jupyter_contrib_nbextensions) (0.7.5)\n",
      "Requirement already satisfied: parso<0.9.0,>=0.8.0 in d:\\projects\\python\\jupyternotebookmlp\\venv\\lib\\site-packages (from jedi>=0.16->ipython->jupyter-latex-envs>=1.3.8->jupyter_contrib_nbextensions) (0.8.2)\n",
      "Requirement already satisfied: wcwidth in d:\\projects\\python\\jupyternotebookmlp\\venv\\lib\\site-packages (from prompt-toolkit!=3.0.0,!=3.0.1,<3.1.0,>=2.0.0->ipython->jupyter-latex-envs>=1.3.8->jupyter_contrib_nbextensions) (0.2.5)\n",
      "Requirement already satisfied: pyparsing>=2.0.2 in d:\\projects\\python\\jupyternotebookmlp\\venv\\lib\\site-packages (from packaging->bleach->nbconvert>=4.2->jupyter_contrib_nbextensions) (2.4.7)\n",
      "Building wheels for collected packages: jupyter-latex-envs, jupyter-nbextensions-configurator\n",
      "  Building wheel for jupyter-latex-envs (setup.py): started\n",
      "  Building wheel for jupyter-latex-envs (setup.py): finished with status 'done'\n",
      "  Created wheel for jupyter-latex-envs: filename=jupyter_latex_envs-1.4.6-py2.py3-none-any.whl size=963394 sha256=cd78ddd1e109b3a113ecf97209abb881fab95c63408e9a46f9b0aa8bdc2120e4\n",
      "  Stored in directory: c:\\users\\mikes\\appdata\\local\\pip\\cache\\wheels\\f7\\b5\\78\\f5b899dd8fc137fe0bfe26b382713f6d171c9eac2fb1fa091f\n",
      "  Building wheel for jupyter-nbextensions-configurator (setup.py): started\n",
      "  Building wheel for jupyter-nbextensions-configurator (setup.py): finished with status 'done'\n",
      "  Created wheel for jupyter-nbextensions-configurator: filename=jupyter_nbextensions_configurator-0.4.1-py2.py3-none-any.whl size=465825 sha256=5299706ed4473a25c7f3ee9c9b024f01bc05c41a3b0c893d04c23b90f8517056\n",
      "  Stored in directory: c:\\users\\mikes\\appdata\\local\\pip\\cache\\wheels\\94\\62\\cd\\233da8580d4e1228ab3fbede758ab1b97174bf9d9cea095049\n",
      "Successfully built jupyter-latex-envs jupyter-nbextensions-configurator\n",
      "Installing collected packages: pyyaml, jupyter-contrib-core, lxml, jupyter-nbextensions-configurator, jupyter-latex-envs, jupyter-highlight-selected-word, jupyter-contrib-nbextensions\n",
      "Successfully installed jupyter-contrib-core-0.3.3 jupyter-contrib-nbextensions-0.5.1 jupyter-highlight-selected-word-0.2.0 jupyter-latex-envs-1.4.6 jupyter-nbextensions-configurator-0.4.1 lxml-4.6.3 pyyaml-5.4.1\n"
     ]
    }
   ],
   "source": [
    "import sys\n",
    "!{sys.executable} -m pip install jupyter_contrib_nbextensions"
   ]
  },
  {
   "cell_type": "code",
   "execution_count": 5,
   "id": "e9caf31a-cc36-4346-8bd3-18c7926c8e02",
   "metadata": {},
   "outputs": [
    {
     "name": "stdout",
     "output_type": "stream",
     "text": [
      "Collecting black\n",
      "  Downloading black-21.8b0-py3-none-any.whl (148 kB)\n",
      "Collecting mypy-extensions>=0.4.3\n",
      "  Downloading mypy_extensions-0.4.3-py2.py3-none-any.whl (4.5 kB)\n",
      "Collecting pathspec<1,>=0.9.0\n",
      "  Downloading pathspec-0.9.0-py2.py3-none-any.whl (31 kB)\n",
      "Collecting typing-extensions>=3.10.0.0\n",
      "  Downloading typing_extensions-3.10.0.2-py3-none-any.whl (26 kB)\n",
      "Collecting tomli<2.0.0,>=0.2.6\n",
      "  Downloading tomli-1.2.1-py3-none-any.whl (11 kB)\n",
      "Collecting platformdirs>=2\n",
      "  Downloading platformdirs-2.3.0-py3-none-any.whl (13 kB)\n",
      "Requirement already satisfied: regex>=2020.1.8 in d:\\projects\\python\\jupyternotebookmlp\\venv\\lib\\site-packages (from black) (2021.8.28)\n",
      "Requirement already satisfied: click>=7.1.2 in d:\\projects\\python\\jupyternotebookmlp\\venv\\lib\\site-packages (from black) (8.0.1)\n",
      "Requirement already satisfied: colorama in d:\\projects\\python\\jupyternotebookmlp\\venv\\lib\\site-packages (from click>=7.1.2->black) (0.4.4)\n",
      "Installing collected packages: typing-extensions, tomli, platformdirs, pathspec, mypy-extensions, black\n",
      "Successfully installed black-21.8b0 mypy-extensions-0.4.3 pathspec-0.9.0 platformdirs-2.3.0 tomli-1.2.1 typing-extensions-3.10.0.2\n"
     ]
    }
   ],
   "source": [
    "import sys\n",
    "!{sys.executable} -m pip install black"
   ]
  },
  {
   "cell_type": "markdown",
   "id": "10ecfcc6-a6f7-4f3b-ae6d-e04c1a1255ae",
   "metadata": {},
   "source": [
    "## Use LaTeX in the Markdown, too"
   ]
  },
  {
   "cell_type": "code",
   "execution_count": 5,
   "id": "474fd345-962b-4c89-a035-15467bb153eb",
   "metadata": {},
   "outputs": [],
   "source": [
    "def combinations(iterable, r):\n",
    "    pool = tuple(iterable)\n",
    "    n = len(pool)\n",
    "    for indices in permutations(range(n), r):\n",
    "        if sorted(indices) == list(indices):\n",
    "            yield tuple(pool[i] for i in indices)"
   ]
  },
  {
   "cell_type": "markdown",
   "id": "f934e0a0-ef46-48f4-9afa-7586f3356dae",
   "metadata": {},
   "source": [
    "### Einstein's Theory of Relativity\n",
    "$ E = mc^2 $\n",
    "\n",
    "### Euler's Identity\n",
    "$ e^{i \\pi} + 1 = 0 $"
   ]
  },
  {
   "cell_type": "code",
   "execution_count": null,
   "id": "0f6685bc-9855-4526-b677-1177d18f3659",
   "metadata": {},
   "outputs": [],
   "source": []
  }
 ],
 "metadata": {
  "kernelspec": {
   "display_name": "venv",
   "language": "python",
   "name": "venv"
  },
  "language_info": {
   "codemirror_mode": {
    "name": "ipython",
    "version": 3
   },
   "file_extension": ".py",
   "mimetype": "text/x-python",
   "name": "python",
   "nbconvert_exporter": "python",
   "pygments_lexer": "ipython3",
   "version": "3.9.5"
  }
 },
 "nbformat": 4,
 "nbformat_minor": 5
}
